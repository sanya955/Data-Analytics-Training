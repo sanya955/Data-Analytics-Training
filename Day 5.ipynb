{
 "cells": [
  {
   "cell_type": "code",
   "execution_count": 1,
   "id": "accc185a-116d-4a9b-a7f4-dabe34b711a9",
   "metadata": {},
   "outputs": [
    {
     "name": "stdout",
     "output_type": "stream",
     "text": [
      "<class 'set'>\n"
     ]
    }
   ],
   "source": [
    "#Tuples\n",
    "#immutable\n",
    "#count\n",
    "d=tuple('a string with many \"a\"s')\n",
    "d.count('a')\n",
    "#index\n",
    "d.index('a')\n",
    "\n",
    "#sets are mainly used to eliminate repeated numbers in a sequence/list.\n",
    "#unordered collection\n",
    "#mutable\n",
    "set1=set()\n",
    "print(type(set1))\n",
    "\n"
   ]
  },
  {
   "cell_type": "code",
   "execution_count": 13,
   "id": "50b20ff0-d2d2-426c-b842-32a2b171e0c1",
   "metadata": {},
   "outputs": [
    {
     "name": "stdout",
     "output_type": "stream",
     "text": [
      "{0, 1, 2, 3}\n"
     ]
    },
    {
     "data": {
      "text/plain": [
       "{2, 3}"
      ]
     },
     "execution_count": 13,
     "metadata": {},
     "output_type": "execute_result"
    }
   ],
   "source": [
    "#eg1\n",
    "set1=set([1,2,3])\n",
    "set2=set([2,3,4,5])\n",
    "#union (in starting universal set)\n",
    "set1.union(set2)\n",
    "\n",
    "#eg2\n",
    "set1.add(0)\n",
    "print(set1)\n",
    "set1.intersection(set2)\n",
    "\n",
    "#eg3\n"
   ]
  },
  {
   "cell_type": "code",
   "execution_count": 14,
   "id": "16971474-952f-44e6-8061-19214594ac31",
   "metadata": {},
   "outputs": [
    {
     "name": "stdout",
     "output_type": "stream",
     "text": [
      "{1, 2, 3}\n"
     ]
    }
   ],
   "source": [
    "set1.difference(set2)\n",
    "\n",
    "set2.symmetric_difference(set1)\n",
    "\n",
    "set1.issubset(set2)\n",
    "set2.isdisjoint(set1)\n",
    "set2.issuperset(set1)\n",
    "set1.pop()\n",
    "print(set1)\n",
    "set1.clear()"
   ]
  },
  {
   "cell_type": "code",
   "execution_count": 20,
   "id": "7edd9eb0-c9d5-41b8-bff0-f86fcde3edb2",
   "metadata": {},
   "outputs": [
    {
     "data": {
      "text/plain": [
       "'value'"
      ]
     },
     "execution_count": 20,
     "metadata": {},
     "output_type": "execute_result"
    }
   ],
   "source": [
    "#dictionary\n",
    "# to define a dictionary, equate a variable to {} or dict()\n",
    "d={\"key\":\"value\",\"key1\":6}\n",
    "d1={\"one\":1,\"two\":2,\"three\":3}\n",
    "d.get(\"key\")   #retrieve all the values of a specified key\n"
   ]
  },
  {
   "cell_type": "code",
   "execution_count": 21,
   "id": "1b3a8486-ae39-4075-b3ec-ca07505a836d",
   "metadata": {},
   "outputs": [
    {
     "name": "stdout",
     "output_type": "stream",
     "text": [
      "dict_keys(['key', 'key1'])\n",
      "dict_values(['value', 6])\n",
      "dict_items([('key', 'value'), ('key1', 6)])\n",
      "None\n",
      "{'key': 'value', 'key1': 6, 'one': 1, 'two': 2, 'three': 3}\n",
      "value\n",
      "('three', 3)\n"
     ]
    }
   ],
   "source": [
    "print(d.keys())    #return all keys\n",
    "print(d.values())  #returns all values\n",
    "print(d.items())  #returns key value pairs\n",
    "print(d.update(d1))    #add items from another dictionary\n",
    "print(d.copy())   #returns shallow copy\n",
    "print(d.pop(\"key\"))     #removes a key\n",
    "print(d.popitem())   #removes last key-value pair   #empties dictionary\n"
   ]
  },
  {
   "cell_type": "code",
   "execution_count": null,
   "id": "ff2d91df-75bc-446c-9f91-e59523c1b749",
   "metadata": {},
   "outputs": [],
   "source": [
    "#Basic file operations\n",
    "#open file open()\n",
    "#read file   read(),readline(),readlines()\n",
    "#write to file  write(),writelines()\n",
    "#close file close()\n",
    "#delete file  os.remove(filename)  (os is module)"
   ]
  },
  {
   "cell_type": "code",
   "execution_count": null,
   "id": "eb4f3be8-23e4-457b-aa0f-06713e972fae",
   "metadata": {},
   "outputs": [],
   "source": [
    "#file opening modes\n",
    "#mode description\n",
    "# 'r' Read (default) - error if file doesn't exist\n",
    "# 'w' Write - creates new file or overwrites\n",
    "# 'a' Append - adds data at the end\n",
    "# 'x' Create - error if file exists\n",
    "# 'b' Binary mode\n",
    "# 't' Text mode (default)"
   ]
  },
  {
   "cell_type": "code",
   "execution_count": null,
   "id": "dc01ae49-76d0-4887-99b0-8f86004dc7df",
   "metadata": {},
   "outputs": [],
   "source": [
    "#1. Open a file\n",
    "file=open(\"myfile.txt\", \"r\")    #exists in the same folder\n",
    "\n",
    "#2. Read/Write from file\n",
    "content=file.read()\n",
    "\n",
    "#3. Close the file\n",
    "file.close()\n",
    "\n",
    "#write\n",
    "file=open(\"notes.text\",\"w\")\n",
    "file.write(\"Pyhton is awesome!\\n\")\n",
    "file.write(\"File handling is easy\")\n",
    "file.close()\n",
    "\n",
    "#append\n",
    "file=open(\"notes.txt\",\"a\")\n",
    "file.write(\"\\nThis line is added later.\")\n",
    "file.close()\n",
    "\n",
    "#deleting a file\n",
    "import os\n",
    "if os.path.exists(\"data.txt\"):\n",
    "    os.remove(\"data.txt\")\n",
    "    print(\"File deleted\")\n",
    "else:\n",
    "    print(\"File doesn't exists\")"
   ]
  },
  {
   "cell_type": "code",
   "execution_count": 22,
   "id": "77191cc1-cc07-4389-8587-b6a04f2a9204",
   "metadata": {},
   "outputs": [
    {
     "name": "stdin",
     "output_type": "stream",
     "text": [
      "Enter a number:  s\n"
     ]
    },
    {
     "name": "stdout",
     "output_type": "stream",
     "text": [
      "Invalid input! Please enter a number.\n"
     ]
    }
   ],
   "source": [
    "#exception handling\n",
    "try:\n",
    "    x=int(input(\"Enter a number: \"))\n",
    "    print(\"You entered:\", x)\n",
    "except ValueError:\n",
    "    print(\"Invalid input! Please enter a number.\")"
   ]
  },
  {
   "cell_type": "code",
   "execution_count": 9,
   "id": "79481243-1164-47d5-b371-dac75f82d5c4",
   "metadata": {},
   "outputs": [
    {
     "name": "stdin",
     "output_type": "stream",
     "text": [
      "Enter a no.:  4\n",
      "Enter a no.:  5\n",
      "Enter a no.:  6\n",
      "Enter a no.:  7\n"
     ]
    },
    {
     "name": "stdout",
     "output_type": "stream",
     "text": [
      "[4, 5, 6, 7]\n",
      "[1, 2, 3, 4, 5, 6]\n",
      "[10, 20, 25, 30, 40]\n",
      "[10, 30, 40]\n"
     ]
    }
   ],
   "source": [
    "# Q1\n",
    "lst=[]\n",
    "for i in range(0,4):\n",
    "    i=int(input(\"Enter a no.: \"))\n",
    "    lst.append(i)\n",
    "print(lst)\n",
    "\n",
    "#Q2\n",
    "lst1=[1,2,3]\n",
    "lst2=[4,5,6]\n",
    "lst1.extend(lst2)\n",
    "print(lst1)\n",
    "\n",
    "#Q3\n",
    "l=[10,20,30,40]\n",
    "l.insert(2,25)\n",
    "print(l)\n",
    "\n",
    "#Q4\n",
    "lst=[10,20,30,40]\n",
    "lst.remove(20)\n",
    "print(lst)\n",
    "    \n",
    "    "
   ]
  },
  {
   "cell_type": "code",
   "execution_count": 10,
   "id": "6c375a99-2e24-4d7b-a164-41419cf89e53",
   "metadata": {},
   "outputs": [
    {
     "name": "stdout",
     "output_type": "stream",
     "text": [
      "Popped item is 5\n",
      "[1, 2, 3, 4]\n"
     ]
    }
   ],
   "source": [
    "#Q5\n",
    "l=[1,2,3,4,5]\n",
    "print(\"Popped item is\",l[4])\n",
    "l.pop()\n",
    "print(l)"
   ]
  },
  {
   "cell_type": "code",
   "execution_count": 14,
   "id": "c4c128dd-dec0-4322-a7ed-c2b0d138e73d",
   "metadata": {},
   "outputs": [
    {
     "name": "stdout",
     "output_type": "stream",
     "text": [
      "2\n"
     ]
    }
   ],
   "source": [
    "#Q6\n",
    "list1=[5,10,15,20,25]\n",
    "for i in list1:\n",
    "    if i==15:\n",
    "        print(list1.index(15))\n",
    "    "
   ]
  },
  {
   "cell_type": "code",
   "execution_count": 15,
   "id": "c6aafa0f-0b9e-4cb7-8a30-784cded999d1",
   "metadata": {},
   "outputs": [
    {
     "data": {
      "text/plain": [
       "4"
      ]
     },
     "execution_count": 15,
     "metadata": {},
     "output_type": "execute_result"
    }
   ],
   "source": [
    "#Q7\n",
    "lst=[1,2,2,3,2,4,2]\n",
    "lst.count(2)\n"
   ]
  },
  {
   "cell_type": "code",
   "execution_count": 6,
   "id": "a696c2af-ea71-41fe-bfc9-34c36ad7718d",
   "metadata": {},
   "outputs": [
    {
     "name": "stdout",
     "output_type": "stream",
     "text": [
      "Ascending: [2, 3, 7, 10]\n",
      "Descending: [10, 7, 3, 2]\n"
     ]
    }
   ],
   "source": [
    "#Q8\n",
    "lst=[10,3,7,2]\n",
    "lst.sort()\n",
    "print(\"Ascending:\",lst)\n",
    "lst.sort(reverse=True)\n",
    "print(\"Descending:\",lst)\n"
   ]
  },
  {
   "cell_type": "code",
   "execution_count": 7,
   "id": "770bef6c-1e24-4eef-bbc9-3ce44af82967",
   "metadata": {},
   "outputs": [
    {
     "name": "stdout",
     "output_type": "stream",
     "text": [
      "Reversed list: [7, 6, 5, 4, 3, 2]\n"
     ]
    }
   ],
   "source": [
    "#Q9\n",
    "list1=[2,3,4,5,6,7]\n",
    "list1.reverse()\n",
    "print(\"Reversed list:\",list1)"
   ]
  },
  {
   "cell_type": "code",
   "execution_count": null,
   "id": "c08a5ecb-0f92-4e07-98a1-96bf067bb9d3",
   "metadata": {},
   "outputs": [],
   "source": [
    "try:\n",
    "    a=int(input(\"Enter numerator: \"))\n",
    "    b=int(input(\"Enter denominator: \"))\n",
    "    result=a/b\n",
    "    print(\"Result:\", result)\n",
    "except ValueError:\n",
    "    print(\"Invalid input! Enter a number.\")"
   ]
  },
  {
   "cell_type": "code",
   "execution_count": 25,
   "id": "ff6c8971-a593-4a98-a16b-93c8519e8993",
   "metadata": {},
   "outputs": [
    {
     "name": "stdin",
     "output_type": "stream",
     "text": [
      "enter your age:  s\n"
     ]
    },
    {
     "name": "stdout",
     "output_type": "stream",
     "text": [
      "Error: invalid literal for int() with base 10: 's'\n"
     ]
    }
   ],
   "source": [
    "#custom exception\n",
    "def check_age(age):\n",
    "    if age<18:\n",
    "        raise ValueError(\"You must be at least 18 years old.\");\n",
    "    return \" Access granted.\"\n",
    "try:\n",
    "    age=int(input(\"enter your age: \"))\n",
    "    print(check_age(age))\n",
    "except ValueError as e:\n",
    "    print(\"Error:\",e)"
   ]
  },
  {
   "cell_type": "code",
   "execution_count": null,
   "id": "40802b0a-6a30-4ce0-ae67-405d811f45c0",
   "metadata": {},
   "outputs": [],
   "source": [
    "def family():\n",
    "    male_count=0\n",
    "    female_count=0\n",
    "    for i in range(0,3):\n",
    "        gender=input(\"Gender: \")\n",
    "        if gender==\"male\":\n",
    "            male_count+=1\n",
    "        elif gender==\"female\":\n",
    "            female_count+=1\n",
    "        else:\n",
    "            print(\"Others\")\n",
    "    print(\"No. of males:\", male_count)\n",
    "    print(\"No. of females:\", female_count) \n",
    "\n",
    "family1=family()\n",
    "family2=family()\n",
    "family3=family()"
   ]
  }
 ],
 "metadata": {
  "kernelspec": {
   "display_name": "Python 3 (ipykernel)",
   "language": "python",
   "name": "python3"
  },
  "language_info": {
   "codemirror_mode": {
    "name": "ipython",
    "version": 3
   },
   "file_extension": ".py",
   "mimetype": "text/x-python",
   "name": "python",
   "nbconvert_exporter": "python",
   "pygments_lexer": "ipython3",
   "version": "3.13.5"
  }
 },
 "nbformat": 4,
 "nbformat_minor": 5
}
