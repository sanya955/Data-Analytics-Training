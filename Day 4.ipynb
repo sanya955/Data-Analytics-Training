{
 "cells": [
  {
   "cell_type": "code",
   "execution_count": 7,
   "id": "e28265fd-3f1e-4e31-9020-7c467c45428e",
   "metadata": {},
   "outputs": [
    {
     "name": "stdout",
     "output_type": "stream",
     "text": [
      "Number:  2\n",
      "Number:  4\n",
      "Number:  6\n",
      "Number:  8\n",
      "Number:  10\n",
      "Number:  12\n",
      "Number:  14\n"
     ]
    }
   ],
   "source": [
    "# Print all even numbers till 5\n",
    "def even():\n",
    "    for i in range(2,15,2):\n",
    "        print(\"Number: \",i)\n",
    "even()"
   ]
  },
  {
   "cell_type": "code",
   "execution_count": 1,
   "id": "ccc19511-b4fc-49f8-95c6-cef7c64c229b",
   "metadata": {},
   "outputs": [
    {
     "name": "stdout",
     "output_type": "stream",
     "text": [
      "sanya is 19 years old\n"
     ]
    }
   ],
   "source": [
    "#keyword argument (specifies which value is passed to which argument, order may be different but sequence must be specified)\n",
    "def student(name,age):\n",
    "    print(name,\"is\",age,\"years old\")\n",
    "\n",
    "student(age=19,name=\"sanya\")"
   ]
  },
  {
   "cell_type": "code",
   "execution_count": 12,
   "id": "c254a223-f412-4b35-9563-3d6e28ae8fa8",
   "metadata": {},
   "outputs": [
    {
     "name": "stdout",
     "output_type": "stream",
     "text": [
      "Hi Ritik\n",
      "Hi Divya\n"
     ]
    }
   ],
   "source": [
    "# variable length arguments multi positional\n",
    "def greet(name = \"Ritik\"):\n",
    "    print(\"Hi\",name)\n",
    "greet()\n",
    "greet(\"Divya\")"
   ]
  },
  {
   "cell_type": "code",
   "execution_count": 6,
   "id": "6e90a2cb-5ab7-408e-9b16-df1bf2497600",
   "metadata": {},
   "outputs": [
    {
     "name": "stdout",
     "output_type": "stream",
     "text": [
      "9\n"
     ]
    }
   ],
   "source": [
    "def square(x):\n",
    "    print(x**2)\n",
    "square(3)"
   ]
  },
  {
   "cell_type": "code",
   "execution_count": 7,
   "id": "786ba827-219a-46ed-8c16-6fa8062e4f85",
   "metadata": {},
   "outputs": [
    {
     "name": "stdout",
     "output_type": "stream",
     "text": [
      "30\n"
     ]
    }
   ],
   "source": [
    "def add(x,y):\n",
    "    print(x+y)\n",
    "add(10,20)"
   ]
  },
  {
   "cell_type": "code",
   "execution_count": 16,
   "id": "3aa48aa0-5154-4ae9-9b29-8fce6f9a35a3",
   "metadata": {},
   "outputs": [
    {
     "name": "stdout",
     "output_type": "stream",
     "text": [
      "even\n",
      "odd\n"
     ]
    }
   ],
   "source": [
    "def check(num):\n",
    "    if num%2==0:\n",
    "        print(\"even\")\n",
    "    else:\n",
    "        print(\"odd\")\n",
    "check(10)\n",
    "check(9)"
   ]
  },
  {
   "cell_type": "code",
   "execution_count": 18,
   "id": "8e3ad272-2b9d-4cef-8511-bf9270631669",
   "metadata": {},
   "outputs": [
    {
     "name": "stdout",
     "output_type": "stream",
     "text": [
      "Largest element: 89\n"
     ]
    }
   ],
   "source": [
    "def find_largest(nums):\n",
    "    return max(nums)\n",
    "my_list = [4, 10, 2, 89, 33]\n",
    "largest = find_largest(my_list)\n",
    "print(\"Largest element:\", largest)"
   ]
  },
  {
   "cell_type": "code",
   "execution_count": 19,
   "id": "62d63548-65d6-4f6f-aa51-ed157b1fcb38",
   "metadata": {},
   "outputs": [
    {
     "name": "stdout",
     "output_type": "stream",
     "text": [
      "Reversed: olleh\n"
     ]
    }
   ],
   "source": [
    "def reverse_string(s):\n",
    "    return s[::-1]\n",
    "text = \"hello\"\n",
    "reversed_text = reverse_string(text)\n",
    "print(\"Reversed:\", reversed_text)\n"
   ]
  },
  {
   "cell_type": "code",
   "execution_count": null,
   "id": "8d567dcd-ec80-4f97-94e0-ccc3c2aff07e",
   "metadata": {},
   "outputs": [],
   "source": [
    "def fibonacci_series(n):\n",
    "    fib = []\n",
    "    a, b = 0, 1\n",
    "    for _ in range(n):\n",
    "        fib.append(a)\n",
    "        a, b = b, a + b\n",
    "    return fib\n",
    "print(fibonacci_series(7))\n"
   ]
  },
  {
   "cell_type": "code",
   "execution_count": 21,
   "id": "e6280ff1-cb5c-4cb9-98f2-344be28b943c",
   "metadata": {},
   "outputs": [
    {
     "name": "stdout",
     "output_type": "stream",
     "text": [
      "<class 'list'>\n"
     ]
    }
   ],
   "source": [
    "a=[7,'s',7.5]   # Lists are mutable, ordered, collection of multiple datatypes and duplicates allowed.\n",
    "print(type(a))"
   ]
  },
  {
   "cell_type": "code",
   "execution_count": 22,
   "id": "a2ebafbe-1f8a-4224-9023-f1cea81cffcf",
   "metadata": {},
   "outputs": [
    {
     "name": "stdout",
     "output_type": "stream",
     "text": [
      "[7, 1.5, 3, 4]\n"
     ]
    }
   ],
   "source": [
    "lst=[7,1.5,3]\n",
    "lst.append(4)\n",
    "print(lst)"
   ]
  },
  {
   "cell_type": "code",
   "execution_count": 27,
   "id": "6a3f7567-1b62-4408-8b0a-1ed61965ea64",
   "metadata": {},
   "outputs": [
    {
     "name": "stdout",
     "output_type": "stream",
     "text": [
      "[7, 1.5, 3, 4, 8.5, 6.7, 12]\n"
     ]
    }
   ],
   "source": [
    "lst=[7,1.5,3]\n",
    "lst.extend([4,8.5,6.7,12])\n",
    "print(lst)"
   ]
  },
  {
   "cell_type": "code",
   "execution_count": 28,
   "id": "e57e446f-609e-40ae-8dd0-fecaed24024a",
   "metadata": {},
   "outputs": [
    {
     "name": "stdout",
     "output_type": "stream",
     "text": [
      "<class 'list'>\n"
     ]
    }
   ],
   "source": [
    "a=[]\n",
    "print(type(a))"
   ]
  },
  {
   "cell_type": "code",
   "execution_count": 39,
   "id": "f3b526a7-a826-4493-907f-e25bf159b935",
   "metadata": {},
   "outputs": [
    {
     "name": "stdout",
     "output_type": "stream",
     "text": [
      "[]\n",
      "[80, 55, 45, 20, 15]\n",
      "3\n"
     ]
    }
   ],
   "source": [
    "list1=[10,15]\n",
    "list1.append(20)\n",
    "list1.insert(2,45)\n",
    "list1.extend([80,55,55])\n",
    "list1.pop()\n",
    "list1.remove(10)\n",
    "list1.count(20)\n",
    "list1.sort()\n",
    "list1.reverse()\n",
    "b=list1.copy()\n",
    "list1.clear()\n",
    "print(list1)\n",
    "print(b)\n",
    "print(b.index(20))"
   ]
  },
  {
   "cell_type": "code",
   "execution_count": null,
   "id": "96f3635c-c247-4826-80dc-b82fd6df552d",
   "metadata": {},
   "outputs": [],
   "source": []
  }
 ],
 "metadata": {
  "kernelspec": {
   "display_name": "Python 3 (ipykernel)",
   "language": "python",
   "name": "python3"
  },
  "language_info": {
   "codemirror_mode": {
    "name": "ipython",
    "version": 3
   },
   "file_extension": ".py",
   "mimetype": "text/x-python",
   "name": "python",
   "nbconvert_exporter": "python",
   "pygments_lexer": "ipython3",
   "version": "3.13.5"
  }
 },
 "nbformat": 4,
 "nbformat_minor": 5
}
