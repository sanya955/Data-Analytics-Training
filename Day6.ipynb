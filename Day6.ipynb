{
 "cells": [
  {
   "cell_type": "code",
   "execution_count": 4,
   "id": "b3b00880-4232-4a8b-99b4-927db32466dd",
   "metadata": {},
   "outputs": [
    {
     "name": "stdout",
     "output_type": "stream",
     "text": [
      "Table created successfully\n"
     ]
    }
   ],
   "source": [
    "import sqlite3\n",
    "conn=sqlite3.connect('students.db')\n",
    "\n",
    "#creating a cursor object\n",
    "cursor=conn.cursor()\n",
    "cursor.execute('''\n",
    "CREATE TABLE IF NOT EXISTS students (\n",
    "    id INTEGER PRIMARY KEY AUTOINCREMENT,\n",
    "    name TEXT NOT NULL,\n",
    "    age INTEGER,\n",
    "    grade TEXT\n",
    ")\n",
    "''')\n",
    "conn.commit()\n",
    "print(\"Table created successfully\")"
   ]
  },
  {
   "cell_type": "code",
   "execution_count": 7,
   "id": "3465bd9c-0fb6-46a5-8e2b-2ed8a98a3c6e",
   "metadata": {},
   "outputs": [
    {
     "name": "stdout",
     "output_type": "stream",
     "text": [
      "Row inserted successfully\n",
      "Row inserted successfully\n"
     ]
    }
   ],
   "source": [
    "def insert_student(name,age,grade):\n",
    "    conn.execute(\"INSERT INTO students (name,age,grade) values (?,?,?)\",(name,age,grade))\n",
    "    conn.commit()\n",
    "    print(\"Row inserted successfully\")\n",
    "\n",
    "insert_student('Riya',20,'A')\n",
    "insert_student('Sanya',19,'A')\n",
    "                 "
   ]
  },
  {
   "cell_type": "code",
   "execution_count": 9,
   "id": "75976a0a-8c36-40aa-8b83-70c9730aafb8",
   "metadata": {},
   "outputs": [
    {
     "name": "stdout",
     "output_type": "stream",
     "text": [
      "(1, 'Riya', 20, 'A')\n",
      "(2, 'Sanya', 19, 'A')\n"
     ]
    }
   ],
   "source": [
    "def fetch_student():\n",
    "    cursor.execute(\"SELECT * FROM students\")\n",
    "    rows=cursor.fetchall()\n",
    "    for row in rows:\n",
    "        print(row)\n",
    "\n",
    "fetch_student()\n",
    "        "
   ]
  },
  {
   "cell_type": "code",
   "execution_count": null,
   "id": "a00ca165-d3bb-409c-8f01-f50866f614b0",
   "metadata": {},
   "outputs": [],
   "source": [
    "def update_student(student_id,name,age,grade):\n",
    "    cursor.execute(\"UPDATE students set name,"
   ]
  },
  {
   "cell_type": "code",
   "execution_count": 14,
   "id": "ef60db0f-1c77-4de3-806c-db072cd0d3af",
   "metadata": {},
   "outputs": [
    {
     "name": "stdout",
     "output_type": "stream",
     "text": [
      "Student deleted successfully\n"
     ]
    }
   ],
   "source": [
    "def delete_student(student_id):\n",
    "    cursor.execute(\"DELETE FROM STUDENTS WHERE id=?\", (student_id,))\n",
    "    conn.commit()\n",
    "    print(\"Student deleted successfully\")\n",
    "\n",
    "delete_student(2)"
   ]
  },
  {
   "cell_type": "code",
   "execution_count": 19,
   "id": "7610b78c-e3d4-4efe-9316-df27ff2b80ab",
   "metadata": {},
   "outputs": [],
   "source": [
    "import sqlite3\n",
    "\n",
    "#Database connection\n",
    "conn=sqlite3.connect('lib.db')\n",
    "cur=conn.cursor()\n",
    "\n",
    "#Table create (run once)\n",
    "cur.execute('''CREATE TABLE IF NOT EXISTS user (\n",
    "    id INTEGER PRIMARY KEY AUTOINCREMENT,\n",
    "    name TEXT,\n",
    "    email TEXT,\n",
    "    pswd TEXT,\n",
    "    bk_issued TEXT\n",
    ")\n",
    "''')\n",
    "cur.execute('''CREATE TABLE IF NOT EXISTS book (\n",
    "    bk_id INTEGER PRIMARY KEY AUTOINCREMENT,\n",
    "    bk_name TEXT,\n",
    "    bk_price REAL\n",
    ")\n",
    "''')\n",
    "conn.commit()\n"
   ]
  },
  {
   "cell_type": "code",
   "execution_count": 24,
   "id": "4ee221fe-44c0-41c7-8e27-7786c7b709d8",
   "metadata": {},
   "outputs": [],
   "source": [
    "def login_acc(name,pswd):\n",
    "    cursor.execute(\"SELECT * FROM library where name=? and pswd=?\",(name,pswd))\n",
    "    user=fetchone()\n",
    "    if user:\n",
    "        print(f\"Welcome {user[1]}!!\")\n",
    "        return user\n",
    "    else:\n",
    "        print(\"Invalid username or password\")\n",
    "        return None"
   ]
  },
  {
   "cell_type": "code",
   "execution_count": 23,
   "id": "7b651a7c-75e4-4cb4-9d41-bd3d516c0a10",
   "metadata": {},
   "outputs": [],
   "source": [
    "def add_book(bk_name,bk_price):\n",
    "    cursor.execute(\"INSERT INTO book (bk_name,bk_price) VALUES (?,?,?)\",(bk_name,bk_price))\n",
    "    conn.commit()\n",
    "    print(\"Book added successfully\")"
   ]
  },
  {
   "cell_type": "code",
   "execution_count": null,
   "id": "e313b9ca-83e4-4c8e-af6f-a18107b48a59",
   "metadata": {},
   "outputs": [],
   "source": [
    "def add_user(name,email,pswd):\n",
    "    cursor.execute(\"INSERT INTO user (name,email,pswd) VALUES (?,?,?)\", (name,email,pswd))\n",
    "    conn.commit()\n",
    "    print(\"User added successfully\")"
   ]
  },
  {
   "cell_type": "code",
   "execution_count": 1,
   "id": "faf7b07b-a294-403d-ae47-15ee4832d8ea",
   "metadata": {},
   "outputs": [],
   "source": [
    "def issue_book(userid,pswd):\n",
    "    cursor.execute(\"SELECT * FROM user where userid=? and pswd=?\", (userid,pswd))\n",
    "    user=fetchone()\n",
    "    if user:\n",
    "        cursor.execute(\"UPDATE user SET bk_issued= ?\", (name,))\n",
    "        return user\n",
    "    else:\n",
    "        print(\"Invalid user\")\n",
    "        return None"
   ]
  },
  {
   "cell_type": "code",
   "execution_count": null,
   "id": "06563a53-0c51-434d-a6a6-56aa6b2f3476",
   "metadata": {},
   "outputs": [],
   "source": [
    "def lib_menu():\n",
    "    print(\"**********Welcome to Python Library************\")\n",
    "    name=input(\"enter your name:\")\n",
    "    pswd=input(\"enter your password:\")\n",
    "\n",
    "    usr=login_acc(name,pswd)\n",
    "    if not usr:\n",
    "        return\n",
    "\n",
    "    while True:\n",
    "        print(\"\\n--- Menu ---\")\n",
    "        print(\"1. ADD BOOK\")\n",
    "        print(\"2. ADD USER\")\n",
    "        print(\"3. ISSUE BOOKS\")\n",
    "        print(\"4. EXIT\")\n",
    "        choice=input(\"enter your choice: \")\n",
    "\n",
    "        if choice=='1':\n",
    "            add_book(\"computer science\",1200.00)\n",
    "        elif choice=='2':\n",
    "            add_user(\"sanya\",\"sanyamtwn@gmail.com\",\"snymat\")\n",
    "        elif choice=='3':\n",
    "            issue_book(3,\"snymat\")\n",
    "        else:\n",
    "            print(\""
   ]
  },
  {
   "cell_type": "code",
   "execution_count": 27,
   "id": "19a26382-077b-427c-b51e-055e6cd719fb",
   "metadata": {},
   "outputs": [
    {
     "name": "stdout",
     "output_type": "stream",
     "text": [
      "[1 2 3]\n",
      "[[1 2]\n",
      " [3 4]]\n"
     ]
    }
   ],
   "source": [
    "import numpy as np\n",
    "a=np.array([1,2,3])\n",
    "b=np.array([[1,2],[3,4]])\n",
    "print(a)\n",
    "print(b)"
   ]
  },
  {
   "cell_type": "code",
   "execution_count": 29,
   "id": "6535e1bb-8078-4eb7-a55b-50c1efea9313",
   "metadata": {},
   "outputs": [
    {
     "name": "stdout",
     "output_type": "stream",
     "text": [
      "(2, 3)\n",
      "6\n",
      "2\n",
      "<U21\n"
     ]
    }
   ],
   "source": [
    "arr=np.array([[1,2,3],[4,5,6]])\n",
    "print(arr.shape)  # (2,3) (rows,columns)\n",
    "print(arr.size)   # 6\n",
    "print(arr.ndim)   # 2\n",
    "print(arr.dtype)  # int64"
   ]
  },
  {
   "cell_type": "code",
   "execution_count": 3,
   "id": "eb1c5db4-d02e-41d0-848d-93fbd7dd6a4f",
   "metadata": {},
   "outputs": [
    {
     "name": "stdout",
     "output_type": "stream",
     "text": [
      "[[1 2 3]\n",
      " [4 5 6]]\n"
     ]
    }
   ],
   "source": [
    "import numpy as np\n",
    "a=np.array([1,2,3,4,5,6])\n",
    "print(a.reshape(2,3))\n",
    "\n"
   ]
  }
 ],
 "metadata": {
  "kernelspec": {
   "display_name": "Python 3 (ipykernel)",
   "language": "python",
   "name": "python3"
  },
  "language_info": {
   "codemirror_mode": {
    "name": "ipython",
    "version": 3
   },
   "file_extension": ".py",
   "mimetype": "text/x-python",
   "name": "python",
   "nbconvert_exporter": "python",
   "pygments_lexer": "ipython3",
   "version": "3.13.5"
  }
 },
 "nbformat": 4,
 "nbformat_minor": 5
}
