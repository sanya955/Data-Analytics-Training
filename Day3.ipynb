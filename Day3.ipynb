{
 "cells": [
  {
   "cell_type": "code",
   "execution_count": 10,
   "id": "b3148065-0e53-4b81-b50e-a1b699613628",
   "metadata": {},
   "outputs": [
    {
     "name": "stdin",
     "output_type": "stream",
     "text": [
      "enter your password d\n"
     ]
    },
    {
     "name": "stdout",
     "output_type": "stream",
     "text": [
      "Wrong password! You have2 attempt left\n"
     ]
    },
    {
     "name": "stdin",
     "output_type": "stream",
     "text": [
      "enter your password s\n"
     ]
    },
    {
     "name": "stdout",
     "output_type": "stream",
     "text": [
      "Wrong password! You have1 attempt left\n"
     ]
    },
    {
     "name": "stdin",
     "output_type": "stream",
     "text": [
      "enter your password s\n"
     ]
    },
    {
     "name": "stdout",
     "output_type": "stream",
     "text": [
      "Wrong password! You have0 attempt left\n"
     ]
    }
   ],
   "source": [
    "pswd=\"iitm\"\n",
    "i=3\n",
    "while(i<=4 and i>0):\n",
    "    user=input(\"enter your password\")\n",
    "    if user==pswd:\n",
    "        print(\"Access granted\")\n",
    "        break\n",
    "    else:\n",
    "        i-=1\n",
    "        print(f\"Wrong password! You have {i} attempt left\") "
   ]
  },
  {
   "cell_type": "code",
   "execution_count": null,
   "id": "49888309-1d86-4587-9f5d-c7def6565d10",
   "metadata": {},
   "outputs": [],
   "source": [
    "pswd=\"iitm\"\n",
    "i=6\n",
    "while i>0:\n",
    "    user=input(\"Enter password\")\n",
    "    if i==4:\n",
    "        i-=1\n",
    "        continue\n",
    "    if i==2:\n",
    "        break\n",
    "    if user==pswd:\n",
    "        print(\"Access granted\")\n",
    "        break\n",
    "    else:\n",
    "        i-=1\n",
    "        print(f\"Wrong password! You have {i} attempt left\")\n",
    "            "
   ]
  },
  {
   "cell_type": "code",
   "execution_count": 3,
   "id": "d766dab8-37c5-4bc9-a701-d2384e321d86",
   "metadata": {},
   "outputs": [
    {
     "name": "stdout",
     "output_type": "stream",
     "text": [
      "2\n",
      "4\n",
      "6\n",
      "8\n",
      "10\n",
      "12\n",
      "14\n",
      "16\n",
      "18\n",
      "20\n",
      "22\n",
      "24\n",
      "26\n",
      "28\n",
      "30\n",
      "32\n",
      "34\n",
      "36\n",
      "38\n",
      "40\n",
      "42\n",
      "44\n",
      "46\n",
      "48\n",
      "50\n"
     ]
    }
   ],
   "source": [
    "def natural():\n",
    "    for n in range(1,51):\n",
    "        if n%2==0 and n>=1:\n",
    "            print(n)\n",
    "    \n",
    "natural()"
   ]
  },
  {
   "cell_type": "code",
   "execution_count": 15,
   "id": "fd7bc24b-9367-47c7-b4f4-aab6f1db0060",
   "metadata": {},
   "outputs": [
    {
     "name": "stdin",
     "output_type": "stream",
     "text": [
      "enter a number 23\n"
     ]
    },
    {
     "name": "stdout",
     "output_type": "stream",
     "text": [
      "23 is not divisible by both 3 and 7\n"
     ]
    }
   ],
   "source": [
    "a=int(input(\"enter a number\"))\n",
    "if(a%3==0) and (a%7==0):\n",
    "    print(a,\"is divisible by both 3 and 7\")\n",
    "else:\n",
    "    print(a, \"is not divisible by both 3 and 7\")"
   ]
  },
  {
   "cell_type": "code",
   "execution_count": 16,
   "id": "c00aee49-fa64-4635-9525-0cc8abf34753",
   "metadata": {},
   "outputs": [
    {
     "name": "stdout",
     "output_type": "stream",
     "text": [
      "50\n",
      "49\n",
      "48\n",
      "47\n",
      "46\n",
      "45\n",
      "44\n",
      "43\n",
      "42\n",
      "41\n",
      "40\n",
      "39\n",
      "38\n",
      "37\n",
      "36\n",
      "35\n",
      "34\n",
      "33\n",
      "32\n",
      "31\n",
      "30\n",
      "29\n",
      "28\n",
      "27\n",
      "26\n",
      "25\n",
      "24\n",
      "23\n",
      "22\n",
      "21\n",
      "20\n",
      "19\n",
      "18\n",
      "17\n",
      "16\n",
      "15\n",
      "14\n",
      "13\n",
      "12\n",
      "11\n",
      "10\n",
      "9\n",
      "8\n",
      "7\n",
      "6\n",
      "5\n",
      "4\n",
      "3\n",
      "2\n",
      "1\n"
     ]
    }
   ],
   "source": [
    "a=50\n",
    "while a>=1:\n",
    "    print(a)\n",
    "    a-=1"
   ]
  },
  {
   "cell_type": "code",
   "execution_count": null,
   "id": "b955cf40-d507-4c34-9021-c53c7c51ddd3",
   "metadata": {},
   "outputs": [],
   "source": [
    "a=1\n",
    "count=0\n",
    "while a<=100:\n",
    "    if a%5==0:\n",
    "        count+=1\n",
    "print(count)"
   ]
  }
 ],
 "metadata": {
  "kernelspec": {
   "display_name": "Python 3 (ipykernel)",
   "language": "python",
   "name": "python3"
  },
  "language_info": {
   "codemirror_mode": {
    "name": "ipython",
    "version": 3
   },
   "file_extension": ".py",
   "mimetype": "text/x-python",
   "name": "python",
   "nbconvert_exporter": "python",
   "pygments_lexer": "ipython3",
   "version": "3.13.5"
  }
 },
 "nbformat": 4,
 "nbformat_minor": 5
}
