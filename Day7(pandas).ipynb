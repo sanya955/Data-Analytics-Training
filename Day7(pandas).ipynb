{
 "cells": [
  {
   "cell_type": "code",
   "execution_count": 6,
   "id": "dc1083d7-ed34-43d6-b4f3-052a1cc39727",
   "metadata": {},
   "outputs": [],
   "source": [
    "import pandas as pd"
   ]
  },
  {
   "cell_type": "code",
   "execution_count": 7,
   "id": "4abd628d-cfde-42b6-97ef-0359f4369161",
   "metadata": {},
   "outputs": [
    {
     "name": "stdout",
     "output_type": "stream",
     "text": [
      "    Name  Age  Marks\n",
      "0  Sanya   21     88\n",
      "1   Riya   20     92\n",
      "2  Aryan   22     79\n"
     ]
    }
   ],
   "source": [
    "data={'Name':['Sanya','Riya','Aryan'],'Age':[21,20,22],'Marks':[88,92,79]}\n",
    "df=pd.DataFrame(data)\n",
    "print(df)"
   ]
  },
  {
   "cell_type": "code",
   "execution_count": null,
   "id": "73dfdd97-6f8c-40a4-9e80-6aa84718ad59",
   "metadata": {},
   "outputs": [],
   "source": [
    "#read csv file\n",
    "df=pd.read_csv('data.csv')\n",
    "df.to_csv('output.csv',index=False)    #for saving all the changes made to the initial file\n",
    "\n",
    "#read excel file\n",
    "df_excel=pd.read_excel('file.xlsx')\n",
    "df.to_excel('output.xlsx',index=False)"
   ]
  },
  {
   "cell_type": "code",
   "execution_count": 8,
   "id": "365a0d28-55e6-46a7-aadf-a63fe9d69e84",
   "metadata": {},
   "outputs": [
    {
     "name": "stdout",
     "output_type": "stream",
     "text": [
      "    Name  Age  Marks\n",
      "0  Sanya   21     88\n",
      "1   Riya   20     92\n",
      "2  Aryan   22     79\n",
      "    Name  Age  Marks\n",
      "0  Sanya   21     88\n",
      "1   Riya   20     92\n",
      "2  Aryan   22     79\n",
      "    Name  Age  Marks\n",
      "0  Sanya   21     88\n",
      "1   Riya   20     92\n",
      "2  Aryan   22     79\n",
      "(3, 3)\n",
      "Index(['Name', 'Age', 'Marks'], dtype='object')\n",
      "<class 'pandas.core.frame.DataFrame'>\n",
      "RangeIndex: 3 entries, 0 to 2\n",
      "Data columns (total 3 columns):\n",
      " #   Column  Non-Null Count  Dtype \n",
      "---  ------  --------------  ----- \n",
      " 0   Name    3 non-null      object\n",
      " 1   Age     3 non-null      int64 \n",
      " 2   Marks   3 non-null      int64 \n",
      "dtypes: int64(2), object(1)\n",
      "memory usage: 204.0+ bytes\n",
      "None\n",
      "        Age      Marks\n",
      "count   3.0   3.000000\n",
      "mean   21.0  86.333333\n",
      "std     1.0   6.658328\n",
      "min    20.0  79.000000\n",
      "25%    20.5  83.500000\n",
      "50%    21.0  88.000000\n",
      "75%    21.5  90.000000\n",
      "max    22.0  92.000000\n"
     ]
    }
   ],
   "source": [
    "#DataFrame functions\n",
    "data={'Name':['Sanya','Riya','Aryan'],'Age':[21,20,22],'Marks':[88,92,79]}\n",
    "df=pd.DataFrame(data)\n",
    "print(df)\n",
    "print(df.head())      #first five rows\n",
    "print(df.tail())      #last five rows\n",
    "print(df.shape)       # (rows,columns)\n",
    "print(df.columns)     # Column names\n",
    "print(df.info())      # Summary\n",
    "print(df.describe())   # Stats summary"
   ]
  },
  {
   "cell_type": "code",
   "execution_count": 9,
   "id": "926c2576-837a-45b5-80b4-44d5a7c5f7ce",
   "metadata": {},
   "outputs": [
    {
     "name": "stdout",
     "output_type": "stream",
     "text": [
      "0    Sanya\n",
      "1     Riya\n",
      "2    Aryan\n",
      "Name: Name, dtype: object\n",
      "    Name  Marks\n",
      "0  Sanya     88\n",
      "1   Riya     92\n",
      "2  Aryan     79\n",
      "Name     Riya\n",
      "Age        20\n",
      "Marks      92\n",
      "Name: 1, dtype: object\n",
      "Name     Riya\n",
      "Age        20\n",
      "Marks      92\n",
      "Name: 1, dtype: object\n"
     ]
    }
   ],
   "source": [
    "print(df['Name'])\n",
    "print(df[['Name','Marks']])\n",
    "print(df.loc[1])\n",
    "print(df.iloc[1])"
   ]
  },
  {
   "cell_type": "code",
   "execution_count": 9,
   "id": "f2bf7e73-fbc0-4b84-9ed7-d53145cfa91d",
   "metadata": {},
   "outputs": [
    {
     "name": "stdout",
     "output_type": "stream",
     "text": [
      "    Name  Age  Marks\n",
      "0  Sanya   21     88\n",
      "1   Riya   20     92\n",
      "    Name  Age  Marks\n",
      "0  Sanya   21     88\n",
      "1   Riya   20     92\n"
     ]
    }
   ],
   "source": [
    "print(df[df['Marks'] >85])          #filter based\n",
    "print(df[(df['Marks'] > 85) & (df['Age'] < 22)])"
   ]
  },
  {
   "cell_type": "code",
   "execution_count": 13,
   "id": "2ed8c6d3-1222-4d15-8ba1-cd72e44483b6",
   "metadata": {},
   "outputs": [
    {
     "name": "stdout",
     "output_type": "stream",
     "text": [
      "    Name  Age  Marks Grade\n",
      "0  Sanya   21    103     A\n",
      "1   Riya   20    107    A+\n",
      "2  Aryan   22     94     B\n"
     ]
    }
   ],
   "source": [
    "df['Grade']=['A','A+','B']\n",
    "df['Marks']=df['Marks'] + 5\n",
    "print(df)"
   ]
  },
  {
   "cell_type": "code",
   "execution_count": 14,
   "id": "76846ef5-04e1-4f89-ab3b-222c25c41ebc",
   "metadata": {},
   "outputs": [
    {
     "name": "stdout",
     "output_type": "stream",
     "text": [
      "    Name  Age  Marks\n",
      "0  Sanya   21    103\n",
      "2  Aryan   22     94\n"
     ]
    }
   ],
   "source": [
    "df.drop('Grade',axis=1,inplace=True)    #drop column\n",
    "df.drop(1,axis=0,inplace=True)          #drop row\n",
    "print(df)"
   ]
  },
  {
   "cell_type": "code",
   "execution_count": 15,
   "id": "5ff5a111-e3f4-4780-ae38-62eae62dec2b",
   "metadata": {},
   "outputs": [
    {
     "name": "stdout",
     "output_type": "stream",
     "text": [
      "    Name  Age  Marks\n",
      "0  Sanya   21    103\n",
      "2  Aryan   22     94\n"
     ]
    }
   ],
   "source": [
    "print(df.sort_values(by='Marks', ascending=False))"
   ]
  },
  {
   "cell_type": "code",
   "execution_count": null,
   "id": "cb3cd1cc-1030-4dfd-954a-6cfe2d164dee",
   "metadata": {},
   "outputs": [],
   "source": [
    "df=pd.DataFrame({'Name' : ['A','B',None], 'Marks': [80,None,75]})\n",
    "df.fillna('Unknown', inplace=True)    #it fills null values with unknown\n",
    "df.dropna(inplace=True)    #it drops null values\n"
   ]
  },
  {
   "cell_type": "code",
   "execution_count": 20,
   "id": "d5b86e3b-fc99-43f3-9b29-00b352c1a3b3",
   "metadata": {},
   "outputs": [
    {
     "name": "stdout",
     "output_type": "stream",
     "text": [
      "Department\n",
      "HR    46000.0\n",
      "IT    55000.0\n",
      "Name: Salary, dtype: float64\n"
     ]
    }
   ],
   "source": [
    "df = pd.DataFrame({\n",
    "    'Department': ['IT', 'IT', 'HR', 'HR'],\n",
    "    'Salary': [50000, 60000, 45000, 47000]\n",
    "})\n",
    "\n",
    "print(df.groupby('Department')['Salary'].mean())"
   ]
  },
  {
   "cell_type": "code",
   "execution_count": 22,
   "id": "7a07084d-d6ec-418e-bf22-81880e946f51",
   "metadata": {},
   "outputs": [
    {
     "name": "stdout",
     "output_type": "stream",
     "text": [
      "   ID Name  Marks\n",
      "0   1    A     80\n",
      "1   2    B     90\n"
     ]
    }
   ],
   "source": [
    "df1 = pd.DataFrame({'ID': [1, 2], 'Name': ['A', 'B']})\n",
    "df2 = pd.DataFrame({'ID': [1, 2], 'Marks': [80, 90]})\n",
    "\n",
    "merged = pd.merge(df1, df2, on='ID')\n",
    "print(merged)"
   ]
  },
  {
   "cell_type": "code",
   "execution_count": 30,
   "id": "ee4ccbcb-df52-4757-92f7-4f3c9a637fb8",
   "metadata": {},
   "outputs": [
    {
     "data": {
      "image/png": "[encoded data removed]",
      "text/plain": [
       "<Figure size 640x480 with 1 Axes>"
      ]
     },
     "metadata": {},
     "output_type": "display_data"
    }
   ],
   "source": [
    "import matplotlib.pyplot as plt\n",
    "x=[1,2,3,4]\n",
    "y=[10,20,25,30]\n",
    "plt.scatter(x,y)\n",
    "plt.title(\"BASIC LINE PLOT\")\n",
    "plt.xlabel(\"x-axis\")\n",
    "plt.ylabel(\"y-axis\")\n",
    "plt.show()"
   ]
  }
 ],
 "metadata": {
  "kernelspec": {
   "display_name": "Python 3 (ipykernel)",
   "language": "python",
   "name": "python3"
  },
  "language_info": {
   "codemirror_mode": {
    "name": "ipython",
    "version": 3
   },
   "file_extension": ".py",
   "mimetype": "text/x-python",
   "name": "python",
   "nbconvert_exporter": "python",
   "pygments_lexer": "ipython3",
   "version": "3.13.5"
  }
 },
 "nbformat": 4,
 "nbformat_minor": 5
}
