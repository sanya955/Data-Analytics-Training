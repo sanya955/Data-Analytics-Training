{
 "cells": [
  {
   "cell_type": "code",
   "execution_count": 10,
   "id": "00ed4bc4-852a-40ff-a20e-a364eb23c685",
   "metadata": {},
   "outputs": [
    {
     "name": "stdout",
     "output_type": "stream",
     "text": [
      "The type is <class 'int'>\n",
      "The type is <class 'float'>\n",
      "The type is <class 'str'>\n",
      "The type is <class 'bool'>\n"
     ]
    }
   ],
   "source": [
    "#data types (int,float,str,etc)\n",
    "a=4\n",
    "b=4.6\n",
    "c='sanya'\n",
    "d=False\n",
    "print('The type is',(type(a)))\n",
    "print('The type is',(type(b)))\n",
    "print('The type is',(type(c)))\n",
    "print('The type is',(type(d)))"
   ]
  },
  {
   "cell_type": "code",
   "execution_count": 24,
   "id": "24ab3af2-c509-4bbf-9713-b059a55c4eee",
   "metadata": {},
   "outputs": [
    {
     "name": "stdout",
     "output_type": "stream",
     "text": [
      "<class 'float'>\n",
      "<class 'str'>\n",
      "<class 'int'>\n"
     ]
    }
   ],
   "source": [
    "#Type conversion\n",
    "a=4\n",
    "b=4.6\n",
    "c=\"42\"\n",
    "print(type(float(a)))    #conversion of int to float type\n",
    "print(type(str(b)))     #conversion of float to str type\n",
    "print(type(int(c)))     #conversion of str to int type"
   ]
  },
  {
   "cell_type": "code",
   "execution_count": 1,
   "id": "4ec94ed9-6b4e-4c29-b650-dd4923d0dc48",
   "metadata": {},
   "outputs": [
    {
     "name": "stdin",
     "output_type": "stream",
     "text": [
      "enter 1st no. 15\n",
      "enter 2nd no. 4\n"
     ]
    },
    {
     "name": "stdout",
     "output_type": "stream",
     "text": [
      "\n",
      "Arithmetic Operators: \n",
      "Addition:  19\n",
      "Subtraction:  11\n",
      "Multiplication:  60\n",
      "Division:  3.75\n",
      "Floor division:  3\n",
      "Modulus:  3\n",
      "Exponent:  50625\n",
      "\n",
      "Comparison operators: \n",
      "a==b:  False\n",
      "a!=b:  True\n",
      "a>b:  True\n",
      "a<b:  False\n",
      "a<=b:  False\n",
      "a>=b:  True\n",
      "\n",
      "Logical Operators: \n",
      "x and y:  False\n",
      "x or y:  True\n",
      "not x: False\n",
      "\n",
      "Membership operator: \n",
      "10 in my_list:  True\n",
      "50 not in my_list:  True\n",
      "\n",
      "Identity operator: \n",
      "x is y:  False\n",
      "z is not y:  True\n"
     ]
    }
   ],
   "source": [
    "#Operators (5 types)\n",
    "#Arithmetic (+,-,*,**,/,//,%)\n",
    "a=int(input(\"enter 1st no.\"))\n",
    "b=int(input(\"enter 2nd no.\"))\n",
    "print(\"\\nArithmetic Operators: \")\n",
    "print(\"Addition: \", a+b)\n",
    "print(\"Subtraction: \",a-b)\n",
    "print(\"Multiplication: \",a*b)\n",
    "print(\"Division: \", a/b)\n",
    "print(\"Floor division: \",a//b)\n",
    "print(\"Modulus: \",a%b)\n",
    "print(\"Exponent: \",a**b)\n",
    "\n",
    "#Comparison\n",
    "print(\"\\nComparison operators: \")\n",
    "print(\"a==b: \",a==b)\n",
    "print(\"a!=b: \",a!=b)\n",
    "print(\"a>b: \",a>b)\n",
    "print(\"a<b: \",a<b)\n",
    "print(\"a<=b: \",a<=b)\n",
    "print(\"a>=b: \",a>=b)\n",
    "\n",
    "#logical\n",
    "x=True\n",
    "y=False\n",
    "print(\"\\nLogical Operators: \")\n",
    "print(\"x and y: \",x and y)\n",
    "print(\"x or y: \",x or y)\n",
    "print(\"not x:\", not x)\n",
    "\n",
    "#membership\n",
    "my_list=[40,30,60,10,20]\n",
    "print(\"\\nMembership operator: \")\n",
    "print(\"10 in my_list: \",10 in my_list)\n",
    "print(\"50 not in my_list: \",50 not in my_list)\n",
    "\n",
    "#identity operators\n",
    "x=100\n",
    "y=500\n",
    "z=100\n",
    "print(\"\\nIdentity operator: \")\n",
    "print(\"x is y: \",x is y)\n",
    "print(\"z is not y: \", z is not y)"
   ]
  },
  {
   "cell_type": "code",
   "execution_count": null,
   "id": "38f16996-989a-4ae6-8c73-33ba54389586",
   "metadata": {},
   "outputs": [],
   "source": []
  },
  {
   "cell_type": "code",
   "execution_count": null,
   "id": "edd62267-b413-4032-ba34-d59da9d85a0e",
   "metadata": {},
   "outputs": [],
   "source": []
  }
 ],
 "metadata": {
  "kernelspec": {
   "display_name": "Python 3 (ipykernel)",
   "language": "python",
   "name": "python3"
  },
  "language_info": {
   "codemirror_mode": {
    "name": "ipython",
    "version": 3
   },
   "file_extension": ".py",
   "mimetype": "text/x-python",
   "name": "python",
   "nbconvert_exporter": "python",
   "pygments_lexer": "ipython3",
   "version": "3.13.5"
  }
 },
 "nbformat": 4,
 "nbformat_minor": 5
}
