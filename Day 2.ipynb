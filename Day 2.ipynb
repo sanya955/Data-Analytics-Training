{
 "cells": [
  {
   "cell_type": "code",
   "execution_count": 2,
   "id": "2dd80442-8af7-4ae6-a67b-f75e99d1dd70",
   "metadata": {},
   "outputs": [
    {
     "name": "stdin",
     "output_type": "stream",
     "text": [
      "Enter product name:  sugar\n",
      "Enter quantity:  2\n",
      "Enter price:  75\n"
     ]
    },
    {
     "name": "stdout",
     "output_type": "stream",
     "text": [
      "Product Name:  sugar\n",
      "Quantity:  2\n",
      "Price:  75\n",
      "Total:  150\n"
     ]
    }
   ],
   "source": [
    "prod_name=input(\"Enter product name: \")\n",
    "quant=int(input(\"Enter quantity: \"))\n",
    "price=int(input(\"Enter price: \"))\n",
    "total=quant*price\n",
    "print(\"Product Name: \", prod_name)\n",
    "print(\"Quantity: \", quant)\n",
    "print(\"Price: \", price)\n",
    "print(\"Total: \", total)"
   ]
  },
  {
   "cell_type": "code",
   "execution_count": 8,
   "id": "e175d41f-f212-4faf-afeb-54f834d65450",
   "metadata": {},
   "outputs": [
    {
     "name": "stdout",
     "output_type": "stream",
     "text": [
      "14.5\n"
     ]
    }
   ],
   "source": [
    "a=3\n",
    "b=5\n",
    "c=6.5\n",
    "print(a+b+c)"
   ]
  },
  {
   "cell_type": "code",
   "execution_count": 11,
   "id": "1ef72189-080f-433f-a010-6fe7ce32168a",
   "metadata": {},
   "outputs": [
    {
     "name": "stdout",
     "output_type": "stream",
     "text": [
      "<class 'int'>\n"
     ]
    }
   ],
   "source": [
    "a=4\n",
    "b=\"4\"\n",
    "c=int(b)\n",
    "print(type(a+c))"
   ]
  },
  {
   "cell_type": "code",
   "execution_count": 13,
   "id": "bd4a138d-0916-4f8d-a705-71a97cc01eda",
   "metadata": {},
   "outputs": [
    {
     "name": "stdin",
     "output_type": "stream",
     "text": [
      "enter your age:  19\n"
     ]
    },
    {
     "name": "stdout",
     "output_type": "stream",
     "text": [
      "You are eligible to vote\n"
     ]
    }
   ],
   "source": [
    "#control flow\n",
    "#if elif else\n",
    "#to find whether a person is eligible to vote or not\n",
    "age=int(input(\"enter your age: \"))\n",
    "if age>18:\n",
    "    print(\"You are eligible to vote\")\n",
    "else:\n",
    "    print(\"You are not eligible to vote\")\n"
   ]
  },
  {
   "cell_type": "code",
   "execution_count": null,
   "id": "216e1505-a376-4e04-85dc-6087be682de7",
   "metadata": {},
   "outputs": [],
   "source": [
    "mode=input(\"Enter your mode\")\n",
    "option=int(input(\"choose your option: \"));\n",
    "if mode==\"air\":\n",
    "    print('''By air,you have two options:\n",
    "             1. Airplane\n",
    "             2.Helicopter''')\n",
    "    if option==1:\n",
    "        print(\"Airplane\")\n",
    "    elif option==2:\n",
    "        print(\"helicopter\")\n",
    "    else:\n",
    "        print(\"Invalid option\")\n",
    "elif mode==\"land\":\n",
    "    print('''By land, you have three options: \n",
    "              1. Car\n",
    "              2. Bus\n",
    "              3. Metro''')\n",
    "    if option==1:\n",
    "        print(\"Car\")\n",
    "    elif option==2:\n",
    "        print(\"Bus\")\n",
    "    elif option==3:\n",
    "        print(\"Metro\")\n",
    "    else:\n",
    "        print(\"Invalid option\")\n",
    "elif mode==\"Water\":\n",
    "    print('''By water, you have two options: \n",
    "             1. Boat\n",
    "             2. Submarine''')\n",
    "    if option==1:\n",
    "        print(\"Boat\")\n",
    "    elif option==2:\n",
    "        print(\"Submarine\")\n",
    "    else:\n",
    "        print(\"Invalid option\")\n",
    "else:\n",
    "    print(\"Wrong option\")\n",
    "    "
   ]
  }
 ],
 "metadata": {
  "kernelspec": {
   "display_name": "Python 3 (ipykernel)",
   "language": "python",
   "name": "python3"
  },
  "language_info": {
   "codemirror_mode": {
    "name": "ipython",
    "version": 3
   },
   "file_extension": ".py",
   "mimetype": "text/x-python",
   "name": "python",
   "nbconvert_exporter": "python",
   "pygments_lexer": "ipython3",
   "version": "3.13.5"
  }
 },
 "nbformat": 4,
 "nbformat_minor": 5
}
