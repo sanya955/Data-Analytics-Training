{
 "cells": [
  {
   "cell_type": "code",
   "execution_count": 5,
   "id": "172b0c5c-b880-463b-a24d-a45a9edf7025",
   "metadata": {},
   "outputs": [
    {
     "name": "stdin",
     "output_type": "stream",
     "text": [
      "enter your name:  sanya\n"
     ]
    },
    {
     "name": "stdout",
     "output_type": "stream",
     "text": [
      "Hello,sanya!\n"
     ]
    }
   ],
   "source": [
    "#Q1\n",
    "def greet(name):\n",
    "    print(f\"Hello,{name}!\")\n",
    "\n",
    "nme=input(\"enter your name: \")\n",
    "greet(nme)"
   ]
  },
  {
   "cell_type": "code",
   "execution_count": 6,
   "id": "08059baf-ff64-4ea4-b6da-e5270316af7a",
   "metadata": {},
   "outputs": [
    {
     "name": "stdin",
     "output_type": "stream",
     "text": [
      "enter 1st no.:  2\n",
      "enter 2nd no.:  3\n"
     ]
    },
    {
     "data": {
      "text/plain": [
       "5"
      ]
     },
     "execution_count": 6,
     "metadata": {},
     "output_type": "execute_result"
    }
   ],
   "source": [
    "#Q2\n",
    "def add(a,b):\n",
    "    return a+b\n",
    "a=int(input(\"enter 1st no.: \"))\n",
    "b=int(input(\"enter 2nd no.: \"))\n",
    "add(a,b)"
   ]
  },
  {
   "cell_type": "code",
   "execution_count": 7,
   "id": "d4004bc6-7b5f-4d9f-8a3f-d38fe950eb0e",
   "metadata": {},
   "outputs": [
    {
     "name": "stdin",
     "output_type": "stream",
     "text": [
      "enter a number : 3\n"
     ]
    },
    {
     "name": "stdout",
     "output_type": "stream",
     "text": [
      "3 is an odd number.\n"
     ]
    }
   ],
   "source": [
    "#Q3\n",
    "def check(num):\n",
    "    if num%2==0:\n",
    "        print(f\"{num} is an even number.\")\n",
    "    else:\n",
    "        print(f\"{num} is an odd number.\")\n",
    "\n",
    "n=int(input(\"enter a number :\"))\n",
    "check(n)"
   ]
  },
  {
   "cell_type": "code",
   "execution_count": 3,
   "id": "a8cf6bf0-d890-4eee-b801-0c20a6c400e2",
   "metadata": {},
   "outputs": [
    {
     "name": "stdin",
     "output_type": "stream",
     "text": [
      "enter 1st number : 5\n",
      "enter 2nd number : 2\n",
      "enter 3rd number : 8\n"
     ]
    },
    {
     "name": "stdout",
     "output_type": "stream",
     "text": [
      "8 is greatest\n"
     ]
    }
   ],
   "source": [
    "#Q4\n",
    "def great(a,b,c):\n",
    "    if a>b and a>c:\n",
    "        print(f\"{a} is greatest\")\n",
    "    elif b>a and b>c:\n",
    "        print(f\"{b} is greatest\")\n",
    "    else:\n",
    "        print(f\"{c} is greatest\")\n",
    "\n",
    "x=int(input(\"enter 1st number :\"))\n",
    "y=int(input(\"enter 2nd number :\"))\n",
    "z=int(input(\"enter 3rd number :\"))\n",
    "great(x,y,z)"
   ]
  },
  {
   "cell_type": "code",
   "execution_count": 4,
   "id": "756e03ba-54c6-47ee-a8d4-1d1ab5d5fb07",
   "metadata": {},
   "outputs": [
    {
     "name": "stdin",
     "output_type": "stream",
     "text": [
      "Enter any word:  sanya\n"
     ]
    },
    {
     "name": "stdout",
     "output_type": "stream",
     "text": [
      "The reversed string is aynas.\n"
     ]
    }
   ],
   "source": [
    "#Q5\n",
    "def reverse(str):\n",
    "    reversed_str=str[::-1]\n",
    "    print(f\"The reversed string is {reversed_str}.\")\n",
    "\n",
    "word=input(\"Enter any word: \")\n",
    "reverse(word)"
   ]
  },
  {
   "cell_type": "code",
   "execution_count": 6,
   "id": "dc2400ec-294e-45e9-9384-1a554ab9900d",
   "metadata": {},
   "outputs": [
    {
     "name": "stdin",
     "output_type": "stream",
     "text": [
      "Enter any number:  5\n"
     ]
    },
    {
     "name": "stdout",
     "output_type": "stream",
     "text": [
      "Factorial of 5 is 120.\n"
     ]
    }
   ],
   "source": [
    "#Q6\n",
    "def factorial(n):\n",
    "    result=1\n",
    "    for i in range(1,n+1):\n",
    "        result*=i\n",
    "    print(f\"Factorial of {n} is {result}.\")\n",
    "num=int(input(\"Enter any number: \"))\n",
    "factorial(num)"
   ]
  },
  {
   "cell_type": "code",
   "execution_count": 7,
   "id": "67ce7b7b-321f-460c-8c6e-1a7378f0510a",
   "metadata": {},
   "outputs": [
    {
     "name": "stdout",
     "output_type": "stream",
     "text": [
      "[1 2 3 4 5]\n"
     ]
    }
   ],
   "source": [
    "#Q7\n",
    "import numpy as np\n",
    "arr=np.array([1,2,3,4,5])\n",
    "print(arr)"
   ]
  },
  {
   "cell_type": "code",
   "execution_count": 11,
   "id": "cf1bffa4-74c9-4772-81b9-da74c20c1a5b",
   "metadata": {},
   "outputs": [
    {
     "name": "stdout",
     "output_type": "stream",
     "text": [
      "[[0. 0. 0.]\n",
      " [0. 0. 0.]\n",
      " [0. 0. 0.]]\n"
     ]
    }
   ],
   "source": [
    "#Q8\n",
    "print(np.zeros((3,3)))"
   ]
  },
  {
   "cell_type": "code",
   "execution_count": 14,
   "id": "874242f7-b0d8-4434-9039-88be1361be56",
   "metadata": {},
   "outputs": [
    {
     "name": "stdout",
     "output_type": "stream",
     "text": [
      "[ 8 78 86 42 49]\n"
     ]
    }
   ],
   "source": [
    "#Q9\n",
    "random=np.random.randint(1,101,size=5)\n",
    "print(random)"
   ]
  },
  {
   "cell_type": "code",
   "execution_count": 16,
   "id": "a3f65f33-1f62-4877-9691-048184d4a81b",
   "metadata": {},
   "outputs": [
    {
     "name": "stdout",
     "output_type": "stream",
     "text": [
      "150\n"
     ]
    }
   ],
   "source": [
    "#Q10\n",
    "a=np.array([10,20,30,40,50])\n",
    "add=0\n",
    "for i in a:\n",
    "    add+=i\n",
    "print(add)"
   ]
  },
  {
   "cell_type": "code",
   "execution_count": 17,
   "id": "2e5e05dd-9700-4dd2-a17d-777828fe0908",
   "metadata": {},
   "outputs": [
    {
     "name": "stdout",
     "output_type": "stream",
     "text": [
      "10.0\n"
     ]
    }
   ],
   "source": [
    "#Q11\n",
    "arr=np.array([5,10,15])\n",
    "mean=arr.mean()\n",
    "print(mean)"
   ]
  },
  {
   "cell_type": "code",
   "execution_count": 18,
   "id": "570ddf92-2c5a-4ab7-b528-6ed3006cf8f4",
   "metadata": {},
   "outputs": [
    {
     "name": "stdout",
     "output_type": "stream",
     "text": [
      "[5 7 9]\n"
     ]
    }
   ],
   "source": [
    "#Q12\n",
    "a=np.array([1,2,3])\n",
    "b=np.array([4,5,6])\n",
    "print(a+b)"
   ]
  },
  {
   "cell_type": "code",
   "execution_count": 19,
   "id": "8ad50514-432f-438b-a4ac-6bfdc28b4943",
   "metadata": {},
   "outputs": [
    {
     "name": "stdout",
     "output_type": "stream",
     "text": [
      "[[1 2 3]\n",
      " [4 5 6]]\n"
     ]
    }
   ],
   "source": [
    "#Q13\n",
    "arr=np.array([1,2,3,4,5,6])\n",
    "print(arr.reshape(2,3))"
   ]
  },
  {
   "cell_type": "code",
   "execution_count": 20,
   "id": "64502dde-ff52-4f9d-b483-fbd5ddea22df",
   "metadata": {},
   "outputs": [
    {
     "name": "stdout",
     "output_type": "stream",
     "text": [
      "0    10\n",
      "1    20\n",
      "2    30\n",
      "3    40\n",
      "4    50\n",
      "dtype: int64\n"
     ]
    }
   ],
   "source": [
    "#Q14\n",
    "import pandas as pd\n",
    "data=[10,20,30,40,50]\n",
    "series=pd.Series(data)\n",
    "print(series)"
   ]
  },
  {
   "cell_type": "code",
   "execution_count": 21,
   "id": "4cd7eb1c-b64a-472f-90cd-27a058e4fc5b",
   "metadata": {},
   "outputs": [
    {
     "name": "stdout",
     "output_type": "stream",
     "text": [
      "      Name  Age\n",
      "0    Alice   25\n",
      "1  Charlie   30\n"
     ]
    }
   ],
   "source": [
    "#Q15\n",
    "data={'Name':['Alice','Charlie'], 'Age':[25,30]}\n",
    "dict=pd.DataFrame(data)\n",
    "print(dict)"
   ]
  },
  {
   "cell_type": "code",
   "execution_count": null,
   "id": "852accc3-b689-4052-8d3e-cf2ba793f7f7",
   "metadata": {},
   "outputs": [],
   "source": [
    "#Q16\n",
    "df=pd.read_csv(\"filename.csv\")\n",
    "print(df)"
   ]
  },
  {
   "cell_type": "code",
   "execution_count": 22,
   "id": "68e0848f-1db8-436d-927f-b2fdea91ce62",
   "metadata": {},
   "outputs": [
    {
     "name": "stdout",
     "output_type": "stream",
     "text": [
      "0    25\n",
      "1    30\n",
      "Name: Age, dtype: int64\n"
     ]
    }
   ],
   "source": [
    "#Q17\n",
    "data={'Name':['Alice','Charlie'], 'Age':[25,30]}\n",
    "dict=pd.DataFrame(data)\n",
    "print(dict['Age'])"
   ]
  }
 ],
 "metadata": {
  "kernelspec": {
   "display_name": "Python 3 (ipykernel)",
   "language": "python",
   "name": "python3"
  },
  "language_info": {
   "codemirror_mode": {
    "name": "ipython",
    "version": 3
   },
   "file_extension": ".py",
   "mimetype": "text/x-python",
   "name": "python",
   "nbconvert_exporter": "python",
   "pygments_lexer": "ipython3",
   "version": "3.13.5"
  }
 },
 "nbformat": 4,
 "nbformat_minor": 5
}
